{
 "cells": [
  {
   "cell_type": "markdown",
   "metadata": {},
   "source": [
    "**MERGING DATA USING CONCAT**\n",
    "* **Syntax:** pd.concat([df1, df2], axis=0, ignore_index=True)\n"
   ]
  },
  {
   "cell_type": "code",
   "execution_count": 1,
   "metadata": {},
   "outputs": [],
   "source": [
    "#Loading libraries\n",
    "import pandas as pd\n",
    "import numpy as np\n",
    "import matplotlib.pyplot as plt\n",
    "import seaborn as sns\n",
    "from datasets import load_dataset\n",
    "\n",
    "#Loading data\n",
    "dataset = load_dataset('lukebarousse/data_jobs')\n",
    "df = dataset['train'].to_pandas()\n",
    "df\n",
    "\n",
    "#Clean data\n",
    "df.job_posted_date = pd.to_datetime(df.job_posted_date)"
   ]
  },
  {
   "cell_type": "markdown",
   "metadata": {},
   "source": [
    "**1. Create a table for each month as a resources for concat**"
   ]
  },
  {
   "cell_type": "code",
   "execution_count": 2,
   "metadata": {},
   "outputs": [
    {
     "data": {
      "text/html": [
       "<div>\n",
       "<style scoped>\n",
       "    .dataframe tbody tr th:only-of-type {\n",
       "        vertical-align: middle;\n",
       "    }\n",
       "\n",
       "    .dataframe tbody tr th {\n",
       "        vertical-align: top;\n",
       "    }\n",
       "\n",
       "    .dataframe thead th {\n",
       "        text-align: right;\n",
       "    }\n",
       "</style>\n",
       "<table border=\"1\" class=\"dataframe\">\n",
       "  <thead>\n",
       "    <tr style=\"text-align: right;\">\n",
       "      <th></th>\n",
       "      <th>job_title_short</th>\n",
       "      <th>job_title</th>\n",
       "      <th>job_location</th>\n",
       "      <th>job_via</th>\n",
       "      <th>job_schedule_type</th>\n",
       "      <th>job_work_from_home</th>\n",
       "      <th>search_location</th>\n",
       "      <th>job_posted_date</th>\n",
       "      <th>job_no_degree_mention</th>\n",
       "      <th>job_health_insurance</th>\n",
       "      <th>job_country</th>\n",
       "      <th>salary_rate</th>\n",
       "      <th>salary_year_avg</th>\n",
       "      <th>salary_hour_avg</th>\n",
       "      <th>company_name</th>\n",
       "      <th>job_skills</th>\n",
       "      <th>job_type_skills</th>\n",
       "      <th>job_posted_month</th>\n",
       "    </tr>\n",
       "  </thead>\n",
       "  <tbody>\n",
       "    <tr>\n",
       "      <th>1</th>\n",
       "      <td>Data Analyst</td>\n",
       "      <td>Data Analyst</td>\n",
       "      <td>Guadalajara, Jalisco, Mexico</td>\n",
       "      <td>via BeBee México</td>\n",
       "      <td>Full-time</td>\n",
       "      <td>False</td>\n",
       "      <td>Mexico</td>\n",
       "      <td>2023-01-14 13:18:07</td>\n",
       "      <td>False</td>\n",
       "      <td>False</td>\n",
       "      <td>Mexico</td>\n",
       "      <td>None</td>\n",
       "      <td>NaN</td>\n",
       "      <td>NaN</td>\n",
       "      <td>Hewlett Packard Enterprise</td>\n",
       "      <td>['r', 'python', 'sql', 'nosql', 'power bi', 't...</td>\n",
       "      <td>{'analyst_tools': ['power bi', 'tableau'], 'pr...</td>\n",
       "      <td>Jan</td>\n",
       "    </tr>\n",
       "  </tbody>\n",
       "</table>\n",
       "</div>"
      ],
      "text/plain": [
       "  job_title_short     job_title                  job_location  \\\n",
       "1    Data Analyst  Data Analyst  Guadalajara, Jalisco, Mexico   \n",
       "\n",
       "            job_via job_schedule_type  job_work_from_home search_location  \\\n",
       "1  via BeBee México         Full-time               False          Mexico   \n",
       "\n",
       "      job_posted_date  job_no_degree_mention  job_health_insurance  \\\n",
       "1 2023-01-14 13:18:07                  False                 False   \n",
       "\n",
       "  job_country salary_rate  salary_year_avg  salary_hour_avg  \\\n",
       "1      Mexico        None              NaN              NaN   \n",
       "\n",
       "                 company_name  \\\n",
       "1  Hewlett Packard Enterprise   \n",
       "\n",
       "                                          job_skills  \\\n",
       "1  ['r', 'python', 'sql', 'nosql', 'power bi', 't...   \n",
       "\n",
       "                                     job_type_skills job_posted_month  \n",
       "1  {'analyst_tools': ['power bi', 'tableau'], 'pr...              Jan  "
      ]
     },
     "execution_count": 2,
     "metadata": {},
     "output_type": "execute_result"
    }
   ],
   "source": [
    "df['job_posted_month']=df['job_posted_date'].dt.strftime('%b')\n",
    "df.job_posted_month\n",
    "\n",
    "#To create a table for each month, we can store them in the dictionaries\n",
    "# dictionary={\n",
    "#     'Jan':df.Jan\n",
    "#     'Feb':df.Feb\n",
    "#     ...\n",
    "#     'Dec':df.Dec\n",
    "# }\n",
    "\n",
    "months = df.job_posted_month.unique()  #Change to a list using unique()\n",
    "months\n",
    "month_list = {month: df[df['job_posted_month']==month] for month in months}\n",
    "month_list[\"Feb\"].head(2)\n",
    "\n",
    "for month in months:\n",
    "    locals()[month] = month_list[month] #Easy to use, which assign name for your data frame\n",
    "\n",
    "Jan.head(1)\n",
    "\n",
    "\n",
    "\n"
   ]
  },
  {
   "cell_type": "markdown",
   "metadata": {},
   "source": [
    "**2.Learn to use Concat**"
   ]
  },
  {
   "cell_type": "code",
   "execution_count": 3,
   "metadata": {},
   "outputs": [
    {
     "data": {
      "text/plain": [
       "(50000.0, 100000.0)"
      ]
     },
     "execution_count": 3,
     "metadata": {},
     "output_type": "execute_result"
    },
    {
     "data": {
      "image/png": "[encoded data removed]",
      "text/plain": [
       "<Figure size 640x480 with 1 Axes>"
      ]
     },
     "metadata": {},
     "output_type": "display_data"
    }
   ],
   "source": [
    "post_q1 = pd.concat([Jan, Feb, Mar],ignore_index=True)\n",
    "post_q1['job_posted_month'].value_counts().plot(kind='line')\n",
    "plt.ylim(50000,100000)"
   ]
  }
 ],
 "metadata": {
  "kernelspec": {
   "display_name": "python_project",
   "language": "python",
   "name": "python3"
  },
  "language_info": {
   "codemirror_mode": {
    "name": "ipython",
    "version": 3
   },
   "file_extension": ".py",
   "mimetype": "text/x-python",
   "name": "python",
   "nbconvert_exporter": "python",
   "pygments_lexer": "ipython3",
   "version": "3.11.11"
  }
 },
 "nbformat": 4,
 "nbformat_minor": 2
}
