{
 "cells": [
  {
   "cell_type": "markdown",
   "metadata": {},
   "source": [
    "**MANAGE DATA USING SAMPLE() AND COPY ()**\n",
    "* **df.sample(n,random_state = 42):** give random samples of n rows within the dataset, the random_state provide the same output everytime\n",
    "* **df.copy():** give a copy version of the original dataframe"
   ]
  },
  {
   "cell_type": "code",
   "execution_count": 4,
   "metadata": {},
   "outputs": [],
   "source": [
    "#Loading libraries\n",
    "import pandas as pd\n",
    "import numpy as np\n",
    "import matplotlib.pyplot as plt\n",
    "from datasets import load_dataset\n",
    "\n",
    "#Loading data\n",
    "dataset = load_dataset('lukebarousse/data_jobs')\n",
    "df = dataset['train'].to_pandas()\n",
    "df\n",
    "\n",
    "#Clean data\n",
    "df.job_posted_date = pd.to_datetime(df.job_posted_date)"
   ]
  },
  {
   "cell_type": "code",
   "execution_count": null,
   "metadata": {},
   "outputs": [
    {
     "data": {
      "text/html": [
       "<div>\n",
       "<style scoped>\n",
       "    .dataframe tbody tr th:only-of-type {\n",
       "        vertical-align: middle;\n",
       "    }\n",
       "\n",
       "    .dataframe tbody tr th {\n",
       "        vertical-align: top;\n",
       "    }\n",
       "\n",
       "    .dataframe thead th {\n",
       "        text-align: right;\n",
       "    }\n",
       "</style>\n",
       "<table border=\"1\" class=\"dataframe\">\n",
       "  <thead>\n",
       "    <tr style=\"text-align: right;\">\n",
       "      <th></th>\n",
       "      <th>job_title_short</th>\n",
       "      <th>job_title</th>\n",
       "      <th>job_location</th>\n",
       "      <th>job_via</th>\n",
       "      <th>job_schedule_type</th>\n",
       "      <th>job_work_from_home</th>\n",
       "      <th>search_location</th>\n",
       "      <th>job_posted_date</th>\n",
       "      <th>job_no_degree_mention</th>\n",
       "      <th>job_health_insurance</th>\n",
       "      <th>job_country</th>\n",
       "      <th>salary_rate</th>\n",
       "      <th>salary_year_avg</th>\n",
       "      <th>salary_hour_avg</th>\n",
       "      <th>company_name</th>\n",
       "      <th>job_skills</th>\n",
       "      <th>job_type_skills</th>\n",
       "    </tr>\n",
       "  </thead>\n",
       "  <tbody>\n",
       "    <tr>\n",
       "      <th>502901</th>\n",
       "      <td>Senior Data Engineer</td>\n",
       "      <td>Senior Data Engineer</td>\n",
       "      <td>St Paul, MN</td>\n",
       "      <td>via BeBee</td>\n",
       "      <td>Full-time</td>\n",
       "      <td>False</td>\n",
       "      <td>Florida, United States</td>\n",
       "      <td>2023-12-17 11:09:06</td>\n",
       "      <td>False</td>\n",
       "      <td>False</td>\n",
       "      <td>United States</td>\n",
       "      <td>None</td>\n",
       "      <td>NaN</td>\n",
       "      <td>NaN</td>\n",
       "      <td>ManpowerGroup</td>\n",
       "      <td>['sql', 'azure', 'git']</td>\n",
       "      <td>{'cloud': ['azure'], 'other': ['git'], 'progra...</td>\n",
       "    </tr>\n",
       "    <tr>\n",
       "      <th>406337</th>\n",
       "      <td>Senior Data Scientist</td>\n",
       "      <td>Senior Analytics Engineer</td>\n",
       "      <td>London, UK</td>\n",
       "      <td>via LinkedIn</td>\n",
       "      <td>Full-time</td>\n",
       "      <td>False</td>\n",
       "      <td>United Kingdom</td>\n",
       "      <td>2023-10-06 16:09:56</td>\n",
       "      <td>False</td>\n",
       "      <td>False</td>\n",
       "      <td>United Kingdom</td>\n",
       "      <td>None</td>\n",
       "      <td>NaN</td>\n",
       "      <td>NaN</td>\n",
       "      <td>Harnham</td>\n",
       "      <td>['sql', 'python', 'bigquery', 'snowflake', 'lo...</td>\n",
       "      <td>{'analyst_tools': ['looker'], 'cloud': ['bigqu...</td>\n",
       "    </tr>\n",
       "  </tbody>\n",
       "</table>\n",
       "</div>"
      ],
      "text/plain": [
       "              job_title_short                  job_title job_location  \\\n",
       "502901   Senior Data Engineer       Senior Data Engineer  St Paul, MN   \n",
       "406337  Senior Data Scientist  Senior Analytics Engineer   London, UK   \n",
       "\n",
       "             job_via job_schedule_type  job_work_from_home  \\\n",
       "502901     via BeBee         Full-time               False   \n",
       "406337  via LinkedIn         Full-time               False   \n",
       "\n",
       "               search_location     job_posted_date  job_no_degree_mention  \\\n",
       "502901  Florida, United States 2023-12-17 11:09:06                  False   \n",
       "406337          United Kingdom 2023-10-06 16:09:56                  False   \n",
       "\n",
       "        job_health_insurance     job_country salary_rate  salary_year_avg  \\\n",
       "502901                 False   United States        None              NaN   \n",
       "406337                 False  United Kingdom        None              NaN   \n",
       "\n",
       "        salary_hour_avg   company_name  \\\n",
       "502901              NaN  ManpowerGroup   \n",
       "406337              NaN        Harnham   \n",
       "\n",
       "                                               job_skills  \\\n",
       "502901                            ['sql', 'azure', 'git']   \n",
       "406337  ['sql', 'python', 'bigquery', 'snowflake', 'lo...   \n",
       "\n",
       "                                          job_type_skills  \n",
       "502901  {'cloud': ['azure'], 'other': ['git'], 'progra...  \n",
       "406337  {'analyst_tools': ['looker'], 'cloud': ['bigqu...  "
      ]
     },
     "execution_count": 11,
     "metadata": {},
     "output_type": "execute_result"
    }
   ],
   "source": [
    "#Sample()\n",
    "df.sample(2,random_state=42)"
   ]
  },
  {
   "cell_type": "code",
   "execution_count": 16,
   "metadata": {},
   "outputs": [
    {
     "data": {
      "text/plain": [
       "False"
      ]
     },
     "execution_count": 16,
     "metadata": {},
     "output_type": "execute_result"
    }
   ],
   "source": [
    "#copy()\n",
    "df_different = df.copy()\n",
    "id(df_different) == id(df)\n"
   ]
  },
  {
   "cell_type": "code",
   "execution_count": null,
   "metadata": {},
   "outputs": [],
   "source": []
  }
 ],
 "metadata": {
  "kernelspec": {
   "display_name": "python_project",
   "language": "python",
   "name": "python3"
  },
  "language_info": {
   "codemirror_mode": {
    "name": "ipython",
    "version": 3
   },
   "file_extension": ".py",
   "mimetype": "text/x-python",
   "name": "python",
   "nbconvert_exporter": "python",
   "pygments_lexer": "ipython3",
   "version": "3.11.11"
  }
 },
 "nbformat": 4,
 "nbformat_minor": 2
}
